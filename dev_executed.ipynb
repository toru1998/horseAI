{
 "cells": [
  {
   "cell_type": "code",
   "execution_count": 1,
   "id": "845c1062",
   "metadata": {
    "execution": {
     "iopub.execute_input": "2025-04-18T04:55:01.052180Z",
     "iopub.status.busy": "2025-04-18T04:55:01.052180Z",
     "iopub.status.idle": "2025-04-18T04:55:05.065910Z",
     "shell.execute_reply": "2025-04-18T04:55:05.065910Z"
    }
   },
   "outputs": [
    {
     "name": "stdout",
     "output_type": "stream",
     "text": [
      "202006010101\n",
      "<!DOCTYPE html PUBLIC \"-//W3C//DTD XHTML 1.0 Transitional//EN\" \"http://www.w3.org/TR/xhtml1/DTD/xhtml1-transitional.dtd\">\n",
      "<html xmlns=\"http://www.w3.org/1999/xhtml\" lang=\"ja\" xml:lang=\"ja\" id=\"html\">\n",
      "<head>\n",
      "\n",
      "<title>3歳未勝利｜2020年1月5日 | 競馬データベース - netkeiba</title>\n",
      "\n",
      "\n",
      "<meta http-equiv=\"X-UA-Compatible\" content=\"IE=edge,chrome=1\">\n",
      "<meta http-equiv=\"content-language\" content=\"ja\" />\n",
      "<meta http-equiv=\"content-type\" content=\"text/html; charset=euc-jp\" />\n",
      "<meta http-equiv=\"content-script-type\" content=\"text/javascript\" />\n",
      "<meta http-equiv=\"content-style-type\" content=\"text/css\" />\n",
      "<meta name=\"description\" content=\"netkeibaが誇る国内最大級の競馬データベースです。50万頭以上の競走馬、騎手・調教師・馬主・生産者の全データがご覧いただけます。\" />\n",
      "<meta name=\"keywords\" content=\"競馬情報,競走馬,騎手,レース,調教師,馬主,検索,データベース,JRA,netkeiba,ネット競馬\" />\n",
      "<!-- ogp用 -->\n",
      "<meta property=\"og:site_name\" content=\"netkeiba\" />\n",
      "<meta property=\"og:type\" content=\"article\" />\n",
      "<meta property=\"og:title\" content=\"競馬データベース | 競走馬・騎手など情報満載 - netkeiba\" />\n",
      "<meta property=\"og:description\" content=\"netkeibaが誇る国内最大級の競馬データベースです。50万頭以上の競走馬、騎手・調教師・馬主・生産者の全データがご覧いただけます。\" />\n",
      "<meta property=\"og:image\" content=\"https://www.netkeiba.com/style/netkeiba.ja/image/netkeiba.png\" />\n",
      "<!-- Twitter用 -->\n",
      "<meta property=\"twitter:card\" content=\"summary_large_image\">\n",
      "<meta property=\"twitter:site\" content=\"@netkeiba\">\n",
      "<link href=\"https://cdn.netkeiba.com/img.db/common/css/reset.css?20160421\" rel=\"stylesheet\" type=\"text/css\" media=\"all\" />\n",
      "<link href=\"https://cdn.netkeiba.com/img.db/common/css/common.css?2020\" rel=\"stylesheet\" type=\"text/css\" media=\"all\" />\n",
      "<link href=\"https://cdn.netkeiba.com/img.db/common/css/db_detail.css?20250318\" rel=\"stylesheet\" type=\"text/css\" media=\"all\" />\n",
      "<link href=\"https://cdn.netkeiba.com/img.db/common/css/horse_detail.css?20230511\" rel=\"stylesheet\" type=\"text/css\" media=\"all\" />\n",
      "<link href=\"https://cdn.netkeiba.com/img.db/common/css/win.css\" rel=\"stylesheet\" type=\"text/css\" media=\"all\" />\n",
      "<link href=\"https://cdn.netkeiba.com/img.db/common/css/db_top.css?20221205\" rel=\"stylesh\n"
     ]
    }
   ],
   "source": [
    "import sqlite3\n",
    "import pandas as pd\n",
    "\n",
    "# DBファイルパス\n",
    "db_path = 'data/db/keiba.db'\n",
    "\n",
    "# SQLite接続\n",
    "conn = sqlite3.connect(db_path)\n",
    "\n",
    "# race_htmlテーブルから1件取得\n",
    "query = 'SELECT race_id, html FROM race_html LIMIT 1'\n",
    "df = pd.read_sql_query(query, conn)\n",
    "\n",
    "# 取得結果表示\n",
    "print(df['race_id'][0])\n",
    "print(df['html'][0][:2000])  # htmlの先頭2000文字だけ表示\n",
    "\n",
    "# 接続クローズ\n",
    "conn.close()"
   ]
  }
 ],
 "metadata": {
  "kernelspec": {
   "display_name": "Python 3",
   "language": "python",
   "name": "python3"
  },
  "language_info": {
   "codemirror_mode": {
    "name": "ipython",
    "version": 3
   },
   "file_extension": ".py",
   "mimetype": "text/x-python",
   "name": "python",
   "nbconvert_exporter": "python",
   "pygments_lexer": "ipython3",
   "version": "3.11.9"
  }
 },
 "nbformat": 4,
 "nbformat_minor": 5
}
