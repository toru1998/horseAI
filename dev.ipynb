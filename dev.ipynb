{
 "cells": [
  {
   "cell_type": "code",
   "execution_count": null,
   "metadata": {},
   "outputs": [],
   "source": [
    "import sqlite3\n",
    "import pandas as pd\n",
    "\n",
    "# DBファイルパス\n",
    "db_path = 'data/db/keiba.db'\n",
    "\n",
    "# SQLite接続\n",
    "conn = sqlite3.connect(db_path)\n",
    "\n",
    "# race_htmlテーブルから1件取得\n",
    "query = 'SELECT race_id, html FROM race_html LIMIT 1'\n",
    "df = pd.read_sql_query(query, conn)\n",
    "\n",
    "# 取得結果表示\n",
    "print(df['race_id'][0])\n",
    "print(df['html'][0][:2000])  # htmlの先頭2000文字だけ表示\n",
    "\n",
    "# 接続クローズ\n",
    "conn.close()"
   ]
  }
 ],
 "metadata": {
  "kernelspec": {
   "display_name": ".venv",
   "language": "python",
   "name": "python3"
  },
  "language_info": {
   "codemirror_mode": {
    "name": "ipython",
    "version": 3
   },
   "file_extension": ".py",
   "mimetype": "text/x-python",
   "name": "python",
   "nbconvert_exporter": "python",
   "pygments_lexer": "ipython3",
   "version": "3.11.9"
  }
 },
 "nbformat": 4,
 "nbformat_minor": 5
}
